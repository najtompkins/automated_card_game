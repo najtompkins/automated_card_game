{
 "cells": [
  {
   "cell_type": "code",
   "execution_count": 3,
   "metadata": {},
   "outputs": [
    {
     "ename": "AttributeError",
     "evalue": "'Deck' object has no attribute 'pop'",
     "output_type": "error",
     "traceback": [
      "\u001b[0;31m---------------------------------------------------------------------------\u001b[0m",
      "\u001b[0;31mAttributeError\u001b[0m                            Traceback (most recent call last)",
      "Cell \u001b[0;32mIn[3], line 36\u001b[0m\n\u001b[1;32m     33\u001b[0m player2 \u001b[39m=\u001b[39m []\n\u001b[1;32m     35\u001b[0m \u001b[39m# Deal the cards to the two players\u001b[39;00m\n\u001b[0;32m---> 36\u001b[0m deal_cards(deck, player1, player2)\n\u001b[1;32m     38\u001b[0m \u001b[39m# Get the top card from each player's hand\u001b[39;00m\n\u001b[1;32m     39\u001b[0m card1 \u001b[39m=\u001b[39m get_top_card(player1)\n",
      "Cell \u001b[0;32mIn[3], line 8\u001b[0m, in \u001b[0;36mdeal_cards\u001b[0;34m(deck, player1, player2)\u001b[0m\n\u001b[1;32m      5\u001b[0m \u001b[39m\u001b[39m\u001b[39m\"\"\"Deals the cards from the deck to the two players.\"\"\"\u001b[39;00m\n\u001b[1;32m      7\u001b[0m \u001b[39mfor\u001b[39;00m _ \u001b[39min\u001b[39;00m \u001b[39mrange\u001b[39m(\u001b[39m26\u001b[39m):\n\u001b[0;32m----> 8\u001b[0m   player1\u001b[39m.\u001b[39mappend(deck\u001b[39m.\u001b[39;49mpop())\n\u001b[1;32m      9\u001b[0m   player2\u001b[39m.\u001b[39mappend(deck\u001b[39m.\u001b[39mpop())\n",
      "\u001b[0;31mAttributeError\u001b[0m: 'Deck' object has no attribute 'pop'"
     ]
    }
   ],
   "source": [
    "import random \n",
    "import pydealer\n",
    "\n",
    "def deal_cards(deck, player1, player2):\n",
    "  \"\"\"Deals the cards from the deck to the two players.\"\"\"\n",
    "\n",
    "  for _ in range(26):\n",
    "    player1.append(deck.pop())\n",
    "    player2.append(deck.pop())\n",
    "\n",
    "def get_top_card(player):\n",
    "  \"\"\"Gets the top card from the player's hand.\"\"\"\n",
    "\n",
    "  return player.pop()\n",
    "\n",
    "def compare_cards(card1, card2):\n",
    "  \"\"\"Compares two cards and returns the winner.\"\"\"\n",
    "\n",
    "  if card1.value > card2.value:\n",
    "    return 1\n",
    "  elif card1.value < card2.value:\n",
    "    return 2\n",
    "  else:\n",
    "    return 0\n",
    "\n",
    "if __name__ == \"__main__\":\n",
    "  # Create a deck of cards\n",
    "  deck = pydealer.Deck()\n",
    "  deck.shuffle()\n",
    "\n",
    "  # Create two empty lists to store the cards for the two players\n",
    "  player1 = []\n",
    "  player2 = []\n",
    "\n",
    "  # Deal the cards to the two players\n",
    "  deal_cards(deck, player1, player2)\n",
    "\n",
    "  # Get the top card from each player's hand\n",
    "  card1 = get_top_card(player1)\n",
    "  card2 = get_top_card(player2)\n",
    "\n",
    "  # Compare the two cards and print the winner\n",
    "  winner = compare_cards(card1, card2)\n",
    "  if winner == 1:\n",
    "    print(\"Player 1 wins!\")\n",
    "  elif winner == 2:\n",
    "    print(\"Player 2 wins!\")\n",
    "  else:\n",
    "    print(\"War!\")\n"
   ]
  },
  {
   "cell_type": "code",
   "execution_count": null,
   "metadata": {},
   "outputs": [],
   "source": []
  }
 ],
 "metadata": {
  "kernelspec": {
   "display_name": "dev",
   "language": "python",
   "name": "python3"
  },
  "language_info": {
   "codemirror_mode": {
    "name": "ipython",
    "version": 3
   },
   "file_extension": ".py",
   "mimetype": "text/x-python",
   "name": "python",
   "nbconvert_exporter": "python",
   "pygments_lexer": "ipython3",
   "version": "3.10.11"
  },
  "orig_nbformat": 4
 },
 "nbformat": 4,
 "nbformat_minor": 2
}
